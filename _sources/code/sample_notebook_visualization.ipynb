{
 "cells": [
  {
   "attachments": {},
   "cell_type": "markdown",
   "metadata": {},
   "source": [
    "# Sample Notebook ( Visualization )\n",
    "\n",
    "This is a sample notebook for visualization of complex data"
   ]
  },
  {
   "cell_type": "code",
   "execution_count": 73,
   "metadata": {},
   "outputs": [],
   "source": [
    "\n",
    "import matplotlib.pyplot as plt\n",
    "import seaborn\n",
    "import matplotlib\n",
    "import numpy as np\n",
    "import pandas as pd\n",
    "import random"
   ]
  },
  {
   "cell_type": "code",
   "execution_count": 29,
   "metadata": {},
   "outputs": [],
   "source": [
    "# Client Request Description : \n",
    "# I have data for the accuracy scores of 5 algorithms.\n",
    "# However, these scores have been measured in regard to different groups for each algorithm. \n",
    "# For example, Algorithm 1 has 10 different scores one for each group from 1 to 10, while Algorithm 2 has just 1 score measured with regard to one group."
   ]
  },
  {
   "cell_type": "code",
   "execution_count": 48,
   "metadata": {},
   "outputs": [],
   "source": [
    "# create a Python dictionary with different array lengths\n",
    "accuracies_dict = dict(algo1=np.array([random.random() for i in range(10)]),\n",
    "                       algo2=random.random(),\n",
    "                       algo3=np.array([random.random() for i in range(6)]),\n",
    "                       algo4=np.array([random.random() for i in range(2)]),\n",
    "                       algo5=np.array([random.random() for i in range(8)]),\n",
    "                    )"
   ]
  },
  {
   "cell_type": "code",
   "execution_count": 51,
   "metadata": {},
   "outputs": [],
   "source": [
    "# create a Python dictionary to help up structure the data and present it\n",
    "df = pd.DataFrame(dict([(key, pd.Series(value)) for key, value in accuracies_dict.items()]))"
   ]
  },
  {
   "cell_type": "code",
   "execution_count": 52,
   "metadata": {},
   "outputs": [
    {
     "data": {
      "text/html": [
       "<div>\n",
       "<style scoped>\n",
       "    .dataframe tbody tr th:only-of-type {\n",
       "        vertical-align: middle;\n",
       "    }\n",
       "\n",
       "    .dataframe tbody tr th {\n",
       "        vertical-align: top;\n",
       "    }\n",
       "\n",
       "    .dataframe thead th {\n",
       "        text-align: right;\n",
       "    }\n",
       "</style>\n",
       "<table border=\"1\" class=\"dataframe\">\n",
       "  <thead>\n",
       "    <tr style=\"text-align: right;\">\n",
       "      <th></th>\n",
       "      <th>algo1</th>\n",
       "      <th>algo2</th>\n",
       "      <th>algo3</th>\n",
       "      <th>algo4</th>\n",
       "      <th>algo5</th>\n",
       "    </tr>\n",
       "  </thead>\n",
       "  <tbody>\n",
       "    <tr>\n",
       "      <th>0</th>\n",
       "      <td>0.162643</td>\n",
       "      <td>0.580938</td>\n",
       "      <td>0.120575</td>\n",
       "      <td>0.353253</td>\n",
       "      <td>0.963512</td>\n",
       "    </tr>\n",
       "    <tr>\n",
       "      <th>1</th>\n",
       "      <td>0.708096</td>\n",
       "      <td>NaN</td>\n",
       "      <td>0.870215</td>\n",
       "      <td>0.836650</td>\n",
       "      <td>0.489211</td>\n",
       "    </tr>\n",
       "    <tr>\n",
       "      <th>2</th>\n",
       "      <td>0.539841</td>\n",
       "      <td>NaN</td>\n",
       "      <td>0.695304</td>\n",
       "      <td>NaN</td>\n",
       "      <td>0.817582</td>\n",
       "    </tr>\n",
       "    <tr>\n",
       "      <th>3</th>\n",
       "      <td>0.788432</td>\n",
       "      <td>NaN</td>\n",
       "      <td>0.996117</td>\n",
       "      <td>NaN</td>\n",
       "      <td>0.903793</td>\n",
       "    </tr>\n",
       "    <tr>\n",
       "      <th>4</th>\n",
       "      <td>0.160856</td>\n",
       "      <td>NaN</td>\n",
       "      <td>0.606406</td>\n",
       "      <td>NaN</td>\n",
       "      <td>0.119787</td>\n",
       "    </tr>\n",
       "    <tr>\n",
       "      <th>5</th>\n",
       "      <td>0.839229</td>\n",
       "      <td>NaN</td>\n",
       "      <td>0.362447</td>\n",
       "      <td>NaN</td>\n",
       "      <td>0.607015</td>\n",
       "    </tr>\n",
       "    <tr>\n",
       "      <th>6</th>\n",
       "      <td>0.718420</td>\n",
       "      <td>NaN</td>\n",
       "      <td>NaN</td>\n",
       "      <td>NaN</td>\n",
       "      <td>0.985281</td>\n",
       "    </tr>\n",
       "    <tr>\n",
       "      <th>7</th>\n",
       "      <td>0.476432</td>\n",
       "      <td>NaN</td>\n",
       "      <td>NaN</td>\n",
       "      <td>NaN</td>\n",
       "      <td>0.504987</td>\n",
       "    </tr>\n",
       "    <tr>\n",
       "      <th>8</th>\n",
       "      <td>0.651716</td>\n",
       "      <td>NaN</td>\n",
       "      <td>NaN</td>\n",
       "      <td>NaN</td>\n",
       "      <td>NaN</td>\n",
       "    </tr>\n",
       "    <tr>\n",
       "      <th>9</th>\n",
       "      <td>0.538514</td>\n",
       "      <td>NaN</td>\n",
       "      <td>NaN</td>\n",
       "      <td>NaN</td>\n",
       "      <td>NaN</td>\n",
       "    </tr>\n",
       "  </tbody>\n",
       "</table>\n",
       "</div>"
      ],
      "text/plain": [
       "      algo1     algo2     algo3     algo4     algo5\n",
       "0  0.162643  0.580938  0.120575  0.353253  0.963512\n",
       "1  0.708096       NaN  0.870215  0.836650  0.489211\n",
       "2  0.539841       NaN  0.695304       NaN  0.817582\n",
       "3  0.788432       NaN  0.996117       NaN  0.903793\n",
       "4  0.160856       NaN  0.606406       NaN  0.119787\n",
       "5  0.839229       NaN  0.362447       NaN  0.607015\n",
       "6  0.718420       NaN       NaN       NaN  0.985281\n",
       "7  0.476432       NaN       NaN       NaN  0.504987\n",
       "8  0.651716       NaN       NaN       NaN       NaN\n",
       "9  0.538514       NaN       NaN       NaN       NaN"
      ]
     },
     "execution_count": 52,
     "metadata": {},
     "output_type": "execute_result"
    }
   ],
   "source": [
    "df"
   ]
  },
  {
   "cell_type": "code",
   "execution_count": 77,
   "metadata": {},
   "outputs": [],
   "source": [
    "# font asthetics\n",
    "def set_font():\n",
    "    font = {'family' : 'Palatino',\n",
    "            'weight' : 'bold',\n",
    "            'size'   : 16}\n",
    "    axes = {'linewidth':1.5}\n",
    "\n",
    "    matplotlib.rc('font', **font)\n",
    "    matplotlib.rc('axes', **axes)\n",
    "    #matplotlib.rc('text', usetex=True"
   ]
  },
  {
   "cell_type": "code",
   "execution_count": 78,
   "metadata": {},
   "outputs": [],
   "source": [
    "set_font()"
   ]
  },
  {
   "cell_type": "code",
   "execution_count": 98,
   "metadata": {},
   "outputs": [
    {
     "data": {
      "image/png": "[encoded data removed]",
      "text/plain": [
       "<Figure size 1080x1080 with 2 Axes>"
      ]
     },
     "metadata": {
      "needs_background": "light"
     },
     "output_type": "display_data"
    }
   ],
   "source": [
    "f,axs = plt.subplots(2,1,figsize=(15,15))\n",
    "\n",
    "# matplotlib default colors\n",
    "prop_cycle = plt.rcParams['axes.prop_cycle']\n",
    "colors = prop_cycle.by_key()['color']\n",
    "\n",
    "# Plot the accuracy of each algorithm over the different groups\n",
    "df.plot(kind='bar',ax=axs[0])\n",
    "axs[0].set_xlabel('group id')\n",
    "axs[0].set_ylabel('accuracy')\n",
    "axs[0].set_title('Accuracy of each algorithm over the different groups');\n",
    "axs[0].set_ylim([0,1])\n",
    "\n",
    "# Plot the AVERAGE algorithm accuracy over the different groups\n",
    "df.apply(lambda row : row.mean()).plot(kind='bar',ax=axs[1],color=colors)\n",
    "axs[1].set_ylabel('accuracy')\n",
    "axs[1].set_title('AVERAGE algorithm accuracy over the different groups');\n",
    "axs[1].set_ylim([0,1])\n",
    "\n",
    "plt.xticks(rotation=0);"
   ]
  },
  {
   "cell_type": "code",
   "execution_count": null,
   "metadata": {},
   "outputs": [],
   "source": []
  }
 ],
 "metadata": {
  "kernelspec": {
   "display_name": "venv",
   "language": "python",
   "name": "python3"
  },
  "language_info": {
   "codemirror_mode": {
    "name": "ipython",
    "version": 3
   },
   "file_extension": ".py",
   "mimetype": "text/x-python",
   "name": "python",
   "nbconvert_exporter": "python",
   "pygments_lexer": "ipython3",
   "version": "3.6.13"
  },
  "widgets": {
   "application/vnd.jupyter.widget-state+json": {
    "state": {},
    "version_major": 2,
    "version_minor": 0
   }
  }
 },
 "nbformat": 4,
 "nbformat_minor": 4
}
