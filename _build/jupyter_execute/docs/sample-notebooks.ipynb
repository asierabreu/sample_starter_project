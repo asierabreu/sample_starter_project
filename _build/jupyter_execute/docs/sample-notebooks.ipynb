{
 "cells": [
  {
   "cell_type": "markdown",
   "id": "cd5f745f",
   "metadata": {},
   "source": [
    "## Sample Notebooks\n",
    "\n",
    "This is a sample of Jupyter notebooks , an interactive web based development tool that contains code , declarative text \n",
    "that is commonly used in Data Science.\n",
    "\n",
    "The notebooks in this sample contain data preprocessing, modeling and prediction over toy datasets in regression and classification machine learning tasks.\n",
    "\n",
    "Sample Notebooks:\n",
    "\n",
    " - [Regression Sample Notebook](./sample_notebook_regression.md) \n",
    " - [Classification Sample Notebook](./sample_notebook_classification.md)\n",
    " - [Visualization Sample Notebook](./sample_notebook_visualization.md)"
   ]
  }
 ],
 "metadata": {
  "jupytext": {
   "formats": "md:myst",
   "text_representation": {
    "extension": ".md",
    "format_name": "myst",
    "format_version": 0.13,
    "jupytext_version": "1.11.5"
   }
  },
  "kernelspec": {
   "display_name": "Python 3",
   "language": "python",
   "name": "python3"
  },
  "language_info": {
   "codemirror_mode": {
    "name": "ipython",
    "version": 3
   },
   "file_extension": ".py",
   "mimetype": "text/x-python",
   "name": "python",
   "nbconvert_exporter": "python",
   "pygments_lexer": "ipython3",
   "version": "3.11.2"
  },
  "source_map": [
   13
  ]
 },
 "nbformat": 4,
 "nbformat_minor": 5
}