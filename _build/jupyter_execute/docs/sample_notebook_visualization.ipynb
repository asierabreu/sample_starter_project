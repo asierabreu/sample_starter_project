{
 "cells": [
  {
   "cell_type": "markdown",
   "id": "9a979a83",
   "metadata": {},
   "source": [
    "# Sample Notebook ( Visualization )\n",
    "\n",
    "This is a sample notebook for visualization of complex data"
   ]
  },
  {
   "cell_type": "code",
   "execution_count": null,
   "id": "bc2a5956",
   "metadata": {},
   "outputs": [],
   "source": [
    "import matplotlib.pyplot as plt\n",
    "import seaborn\n",
    "import matplotlib\n",
    "import numpy as np\n",
    "import pandas as pd\n",
    "import random"
   ]
  },
  {
   "cell_type": "code",
   "execution_count": null,
   "id": "9c9f5626",
   "metadata": {},
   "outputs": [],
   "source": [
    "# Client Request Description : \n",
    "# I have data for the accuracy scores of 5 algorithms.\n",
    "# However, these scores have been measured in regard to different groups for each algorithm. \n",
    "# For example, Algorithm 1 has 10 different scores one for each group from 1 to 10, while Algorithm 2 has just 1 score measured with regard to one group."
   ]
  },
  {
   "cell_type": "code",
   "execution_count": null,
   "id": "2fa96d35",
   "metadata": {},
   "outputs": [],
   "source": [
    "# create a Python dictionary with different array lengths\n",
    "accuracies_dict = dict(algo1=np.array([random.random() for i in range(10)]),\n",
    "                       algo2=random.random(),\n",
    "                       algo3=np.array([random.random() for i in range(6)]),\n",
    "                       algo4=np.array([random.random() for i in range(2)]),\n",
    "                       algo5=np.array([random.random() for i in range(8)]),\n",
    "                    )"
   ]
  },
  {
   "cell_type": "code",
   "execution_count": null,
   "id": "2b88e22d",
   "metadata": {},
   "outputs": [],
   "source": [
    "# create a Python dictionary to help up structure the data and present it\n",
    "df = pd.DataFrame(dict([(key, pd.Series(value)) for key, value in accuracies_dict.items()]))"
   ]
  },
  {
   "cell_type": "code",
   "execution_count": null,
   "id": "ee8d163b",
   "metadata": {},
   "outputs": [],
   "source": [
    "df"
   ]
  },
  {
   "cell_type": "code",
   "execution_count": null,
   "id": "1eef9002",
   "metadata": {},
   "outputs": [],
   "source": [
    "# font asthetics\n",
    "def set_font():\n",
    "    font = {'family' : 'Palatino',\n",
    "            'weight' : 'bold',\n",
    "            'size'   : 16}\n",
    "    axes = {'linewidth':1.5}\n",
    "\n",
    "    matplotlib.rc('font', **font)\n",
    "    matplotlib.rc('axes', **axes)\n",
    "    #matplotlib.rc('text', usetex=True"
   ]
  },
  {
   "cell_type": "code",
   "execution_count": null,
   "id": "b9af12b9",
   "metadata": {},
   "outputs": [],
   "source": [
    "set_font()"
   ]
  },
  {
   "cell_type": "code",
   "execution_count": null,
   "id": "a84d01d0",
   "metadata": {},
   "outputs": [],
   "source": [
    "f,axs = plt.subplots(2,1,figsize=(15,15))\n",
    "\n",
    "# matplotlib default colors\n",
    "prop_cycle = plt.rcParams['axes.prop_cycle']\n",
    "colors = prop_cycle.by_key()['color']\n",
    "\n",
    "# Plot the accuracy of each algorithm over the different groups\n",
    "df.plot(kind='bar',ax=axs[0])\n",
    "axs[0].set_xlabel('group id')\n",
    "axs[0].set_ylabel('accuracy')\n",
    "axs[0].set_title('Accuracy of each algorithm over the different groups');\n",
    "axs[0].set_ylim([0,1])\n",
    "\n",
    "# Plot the AVERAGE algorithm accuracy over the different groups\n",
    "df.apply(lambda row : row.mean()).plot(kind='bar',ax=axs[1],color=colors)\n",
    "axs[1].set_ylabel('accuracy')\n",
    "axs[1].set_title('AVERAGE algorithm accuracy over the different groups');\n",
    "axs[1].set_ylim([0,1])\n",
    "\n",
    "plt.xticks(rotation=0);"
   ]
  },
  {
   "cell_type": "code",
   "execution_count": null,
   "id": "9bc60b58",
   "metadata": {},
   "outputs": [],
   "source": []
  }
 ],
 "metadata": {
  "jupytext": {
   "text_representation": {
    "extension": ".md",
    "format_name": "myst",
    "format_version": 0.13,
    "jupytext_version": "1.14.5"
   }
  },
  "kernelspec": {
   "display_name": "venv",
   "language": "python",
   "name": "python3"
  },
  "source_map": [
   12,
   18,
   28,
   35,
   45,
   50,
   54,
   67,
   71,
   94
  ]
 },
 "nbformat": 4,
 "nbformat_minor": 5
}